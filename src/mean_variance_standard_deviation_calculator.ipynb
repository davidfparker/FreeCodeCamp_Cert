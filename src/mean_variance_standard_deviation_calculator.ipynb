{
 "cells": [
  {
   "cell_type": "code",
   "execution_count": 13,
   "metadata": {},
   "outputs": [],
   "source": [
    "# import libraries\n",
    "import numpy as np"
   ]
  },
  {
   "cell_type": "code",
   "execution_count": 20,
   "metadata": {},
   "outputs": [],
   "source": [
    "#define list\n",
    "list = (0,1,2,3,4,5,6,7,8)"
   ]
  },
  {
   "cell_type": "markdown",
   "metadata": {},
   "source": [
    "# create Function"
   ]
  },
  {
   "cell_type": "code",
   "execution_count": 21,
   "metadata": {},
   "outputs": [],
   "source": [
    "# Create a function named `calculate()` in `mean_var_std.py` that uses Numpy to output \n",
    "# the mean, variance, standard deviation, max, min, and sum of the rows, columns, and elements in a 3 x 3 matrix. \n",
    "# The input of the function should be a list containing 9 digits. \n",
    "# The function should convert the list into a 3 x 3 Numpy array, and then return a dictionary \n",
    "# containing the mean, variance, standard deviation, max, min, and sum along both axes and for the flattened matrix. \n",
    "# If a list containing less than 9 elements is passed into the function, it should raise a \n",
    "# `ValueError` exception with the message: \"List must contain nine numbers.\" \n",
    "# The values in the returned dictionary should be lists and not Numpy arrays.\n",
    "def calculate(list):\n",
    "  try:\n",
    "    list=np.array(list)\n",
    "    list=list.reshape(3,3)\n",
    "    calculations = {\n",
    "    \"mean\": [(np.mean(list, axis=0)).tolist(),(np.mean(list, axis=1)).tolist(),(np.mean(list))],\n",
    "    \"variance\": [(np.var(list, axis=0)).tolist(),(np.var(list, axis=1)).tolist(),(np.var(list))],\n",
    "    \"standard deviation\": [(np.std(list, axis=0)).tolist(),(np.std(list, axis=1)).tolist(),(np.std(list))],\n",
    "    \"max\": [(np.max(list, axis=0)).tolist(),(np.max(list, axis=1)).tolist(),(np.max(list))],\n",
    "    \"min\": [(np.min(list, axis=0)).tolist(),(np.min(list, axis=1)).tolist(),(np.min(list))],\n",
    "    \"sum\": [(np.sum(list, axis=0)).tolist(),(np.sum(list, axis=1)).tolist(),(np.sum(list))]}\n",
    "    return(calculations)\n",
    "  except ValueError:\n",
    "    raise ValueError(\"List must contain nine numbers.\") "
   ]
  },
  {
   "cell_type": "code",
   "execution_count": 22,
   "metadata": {},
   "outputs": [
    {
     "data": {
      "text/plain": [
       "{'mean': [[3.0, 4.0, 5.0], [1.0, 4.0, 7.0], 4.0],\n",
       " 'variance': [[6.0, 6.0, 6.0],\n",
       "  [0.6666666666666666, 0.6666666666666666, 0.6666666666666666],\n",
       "  6.666666666666667],\n",
       " 'standard deviation': [[2.449489742783178,\n",
       "   2.449489742783178,\n",
       "   2.449489742783178],\n",
       "  [0.816496580927726, 0.816496580927726, 0.816496580927726],\n",
       "  2.581988897471611],\n",
       " 'max': [[6, 7, 8], [2, 5, 8], 8],\n",
       " 'min': [[0, 1, 2], [0, 3, 6], 0],\n",
       " 'sum': [[9, 12, 15], [3, 12, 21], 36]}"
      ]
     },
     "execution_count": 22,
     "metadata": {},
     "output_type": "execute_result"
    }
   ],
   "source": [
    "calculate(list)"
   ]
  }
 ],
 "metadata": {
  "kernelspec": {
   "display_name": "Python 3",
   "language": "python",
   "name": "python3"
  },
  "language_info": {
   "codemirror_mode": {
    "name": "ipython",
    "version": 3
   },
   "file_extension": ".py",
   "mimetype": "text/x-python",
   "name": "python",
   "nbconvert_exporter": "python",
   "pygments_lexer": "ipython3",
   "version": "3.8.5"
  }
 },
 "nbformat": 4,
 "nbformat_minor": 4
}
